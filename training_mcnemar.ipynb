{
 "cells": [
  {
   "cell_type": "code",
   "execution_count": 1,
   "metadata": {},
   "outputs": [
    {
     "name": "stderr",
     "output_type": "stream",
     "text": [
      "c:\\Posao\\firebot-segmentation\\.venv\\lib\\site-packages\\tqdm\\auto.py:22: TqdmWarning: IProgress not found. Please update jupyter and ipywidgets. See https://ipywidgets.readthedocs.io/en/stable/user_install.html\n",
      "  from .autonotebook import tqdm as notebook_tqdm\n"
     ]
    }
   ],
   "source": [
    "import os\n",
    "import cv2\n",
    "import tqdm\n",
    "import time\n",
    "import string\n",
    "import pathlib\n",
    "import numpy as np\n",
    "import pandas as pd\n",
    "\n",
    "from sklearn.metrics import confusion_matrix\n",
    "\n",
    "from typing import List\n",
    "from matplotlib import pyplot as plt\n",
    "\n",
    "from utils.rgb import mask2rgb\n",
    "from utils.prediction.predict import Prediction\n",
    "from utils.prediction.evaluations import visualize, preload_image_data\n",
    "\n",
    "# Logging\n",
    "from utils.logging import logging\n",
    "\n",
    "log = logging.getLogger(__name__)\n",
    "log.setLevel(logging.INFO)"
   ]
  },
  {
   "cell_type": "markdown",
   "metadata": {},
   "source": [
    "## Variables"
   ]
  },
  {
   "cell_type": "code",
   "execution_count": 2,
   "metadata": {},
   "outputs": [],
   "source": [
    "metrics_models = [\n",
    "    { \n",
    "        'model_name': 'U-Net 256x256',\n",
    "        'model_path': r'checkpoints/avid-forest-323/best-checkpoint.pth.tar',\n",
    "        'patch_size': 256,\n",
    "    },\n",
    "    { \n",
    "        'model_name': 'U-Net 512x512',\n",
    "        'model_path': r'checkpoints/helpful-sky-334/best-checkpoint.pth.tar',\n",
    "        'patch_size': 512,\n",
    "    },\n",
    "   { \n",
    "        'model_name': 'U-Net 640x640',\n",
    "        'model_path': r'checkpoints/graceful-snowball-337/best-checkpoint.pth.tar',\n",
    "        'patch_size': 640,\n",
    "    }, \n",
    "    { \n",
    "        'model_name': 'U-Net 768x768',\n",
    "        'model_path': r'checkpoints/silvery-serenity-371/best-checkpoint.pth.tar',\n",
    "        'patch_size': 768,\n",
    "    },\n",
    "    { \n",
    "        'model_name': 'U-Net 800x800',\n",
    "        'model_path': r'checkpoints/kind-totem-369/best-checkpoint.pth.tar',\n",
    "        'patch_size': 800,\n",
    "    },\n",
    "    { \n",
    "        'model_name': 'U-Net 864x864',\n",
    "        'model_path': r'checkpoints/swept-field-374/best-checkpoint.pth.tar',\n",
    "        'patch_size': 864,\n",
    "    },\n",
    "    { \n",
    "        'model_name': 'U-Net 960x960',\n",
    "        'model_path': r'checkpoints/giddy-leaf-375/best-checkpoint.pth.tar',\n",
    "        'patch_size': 960,\n",
    "    },\n",
    "    { \n",
    "        'model_name': 'U-Net 1088x1088',\n",
    "        'model_path': r'checkpoints/masked-orb-376/best-checkpoint.pth.tar',\n",
    "        'patch_size': 1088,\n",
    "    },\n",
    "]\n",
    "metrics_model_index = 2\n",
    "\n",
    "metrics_output = pathlib.Path('metrics_output')\n",
    "model_metrics_output = pathlib.Path(metrics_output, metrics_models[metrics_model_index]['model_name'])\n",
    "\n",
    "# Create directory if it doesn't exists\n",
    "if not os.path.isdir(model_metrics_output):\n",
    "    os.makedirs(model_metrics_output)"
   ]
  },
  {
   "cell_type": "markdown",
   "metadata": {},
   "source": [
    "## Util Functions"
   ]
  },
  {
   "cell_type": "code",
   "execution_count": 43,
   "metadata": {},
   "outputs": [
    {
     "name": "stdout",
     "output_type": "stream",
     "text": [
      "[DATA]: Started preloading test images and labels!\n"
     ]
    }
   ],
   "source": [
    "log.info('[DATA]: Started preloading test images and labels!')\n",
    "test_imgs = preload_image_data(r'data', r'imgs', False, metrics_models[metrics_model_index]['patch_size'])\n",
    "test_labels = preload_image_data(r'data', r'imgs', True, metrics_models[metrics_model_index]['patch_size'])"
   ]
  },
  {
   "cell_type": "markdown",
   "metadata": {},
   "source": [
    "## Model prediction"
   ]
  },
  {
   "cell_type": "code",
   "execution_count": 44,
   "metadata": {},
   "outputs": [
    {
     "name": "stdout",
     "output_type": "stream",
     "text": [
      "[PREDICTION]: Loading model checkpoints/masked-orb-376/best-checkpoint.pth.tar\n",
      "[PREDICTION]: Model loaded!\n",
      "[PREDICTION]: Starting prediction on 683 image(s).\n"
     ]
    },
    {
     "name": "stderr",
     "output_type": "stream",
     "text": [
      "100%|██████████| 683/683 [01:17<00:00,  8.79it/s]\n"
     ]
    }
   ],
   "source": [
    "model_params = {\n",
    "    'model_name': metrics_models[metrics_model_index]['model_path'],\n",
    "    'patch_width': metrics_models[metrics_model_index]['patch_size'],\n",
    "    'patch_height': metrics_models[metrics_model_index]['patch_size'],\n",
    "    'n_channels': 3,\n",
    "    'n_classes': 3\n",
    "}\n",
    "model = Prediction(model_params)\n",
    "model.initialize()\n",
    "\n",
    "log.info('[PREDICTION]: Model loaded!')\n",
    "log.info(f'[PREDICTION]: Starting prediction on {len(test_imgs)} image(s).')\n",
    "\n",
    "predicted_labels = []\n",
    "img_process_time_list = []\n",
    "m_ious = []\n",
    "\n",
    "batch_start_time = time.time()\n",
    "pbar = tqdm.tqdm(enumerate(test_imgs), total=len(test_imgs))\n",
    "for i, img in pbar:\n",
    "    img_start_time = time.time()\n",
    "    mask_predict = model.predict_image(img)\n",
    "    img_process_time = time.time() - img_start_time\n",
    "\n",
    "    predicted_labels.append(mask_predict)\n",
    "    img_process_time_list.append(img_process_time * 1000)\n",
    "\n",
    "pbar.close()\n",
    "batch_process_time = time.time() - batch_start_time"
   ]
  },
  {
   "cell_type": "code",
   "execution_count": null,
   "metadata": {},
   "outputs": [],
   "source": [
    "visualize(\n",
    "    save_path=model_metrics_output,\n",
    "    prefix='1',\n",
    "    image=test_imgs[8], \n",
    "    ground_truth_mask=mask2rgb(test_labels[8]), \n",
    "    predicted_mask=mask2rgb(predicted_labels[8]),\n",
    ")\n",
    "\n",
    "visualize(\n",
    "    save_path=model_metrics_output,\n",
    "    prefix='2',\n",
    "    image=test_imgs[16], \n",
    "    ground_truth_mask=mask2rgb(test_labels[16]), \n",
    "    predicted_mask=mask2rgb(predicted_labels[16]),\n",
    ")\n",
    "\n",
    "visualize(\n",
    "    save_path=model_metrics_output,\n",
    "    prefix='3',\n",
    "    image=test_imgs[32], \n",
    "    ground_truth_mask=mask2rgb(test_labels[32]), \n",
    "    predicted_mask=mask2rgb(predicted_labels[32]),\n",
    ")"
   ]
  },
  {
   "cell_type": "markdown",
   "metadata": {},
   "source": [
    "### Getting Metrics"
   ]
  },
  {
   "cell_type": "code",
   "execution_count": 45,
   "metadata": {},
   "outputs": [
    {
     "name": "stdout",
     "output_type": "stream",
     "text": [
      "[METRICS]: Started converting RGB masks to binary masks!\n"
     ]
    },
    {
     "name": "stderr",
     "output_type": "stream",
     "text": [
      "100%|██████████| 683/683 [00:16<00:00, 41.03it/s]\n"
     ]
    },
    {
     "name": "stdout",
     "output_type": "stream",
     "text": [
      "[METRICS]: Started converting RGB masks to binary masks!\n"
     ]
    }
   ],
   "source": [
    "# Vars\n",
    "gt_list_fire = []\n",
    "pred_list_fire = []\n",
    "\n",
    "gt_list_smoke = []\n",
    "pred_list_smoke = []\n",
    "\n",
    "\n",
    "log.info('[METRICS]: Started converting RGB masks to binary masks!')\n",
    "pbar = tqdm.tqdm(enumerate(test_labels), total=len(test_labels))\n",
    "for i, label in pbar:\n",
    "    # Fire\n",
    "    ground_truth_fire = cv2.inRange(label, 1, 1)\n",
    "    prediction_fire = cv2.inRange(predicted_labels[i], 1, 1)\n",
    "\n",
    "    gt_mapped_fire = ground_truth_fire.flatten().astype('float') / 255\n",
    "    pred_mapped_fire = prediction_fire.flatten().astype('float') / 255\n",
    "\n",
    "    gt_list_fire.append(gt_mapped_fire)\n",
    "    pred_list_fire.append(pred_mapped_fire)\n",
    "\n",
    "    # Smoke\n",
    "    ground_truth_smoke = cv2.inRange(label, 2, 2)\n",
    "    prediction_smoke = cv2.inRange(predicted_labels[i], 2, 2)\n",
    "\n",
    "    gt_mapped_smoke = ground_truth_smoke.flatten().astype('float') / 255\n",
    "    pred_mapped_smoke = prediction_smoke.flatten().astype('float') / 255\n",
    "\n",
    "    gt_list_smoke.append(gt_mapped_smoke)\n",
    "    pred_list_smoke.append(pred_mapped_smoke)\n",
    "pbar.close()\n",
    "\n",
    "# Global Vars\n",
    "gt_flatten_fire, pred_flatten_fire = np.asarray(gt_list_fire).flatten(), np.asarray(pred_list_fire).flatten()\n",
    "gt_flatten_smoke, pred_flatten_smoke = np.asarray(gt_list_smoke).flatten(), np.asarray(pred_list_smoke).flatten()\n",
    "\n",
    "# Remove Unused Data From Memory\n",
    "log.info('[METRICS]: Started converting RGB masks to binary masks!')"
   ]
  },
  {
   "cell_type": "code",
   "execution_count": 46,
   "metadata": {},
   "outputs": [],
   "source": [
    "np.save(f\"saved_predictions/{metrics_models[metrics_model_index]['patch_size']}x{metrics_models[metrics_model_index]['patch_size']}_gt_fire.npy\", gt_flatten_fire)\n",
    "np.save(f\"saved_predictions/{metrics_models[metrics_model_index]['patch_size']}x{metrics_models[metrics_model_index]['patch_size']}_gt_smoke.npy\", gt_flatten_smoke)\n",
    "\n",
    "np.save(f\"saved_predictions/{metrics_models[metrics_model_index]['patch_size']}x{metrics_models[metrics_model_index]['patch_size']}_pred_fire.npy\", pred_flatten_fire)\n",
    "np.save(f\"saved_predictions/{metrics_models[metrics_model_index]['patch_size']}x{metrics_models[metrics_model_index]['patch_size']}_pred_smoke.npy\", pred_flatten_smoke)"
   ]
  },
  {
   "cell_type": "markdown",
   "metadata": {},
   "source": [
    "### McNemar's Evaluations"
   ]
  },
  {
   "cell_type": "code",
   "execution_count": 3,
   "metadata": {},
   "outputs": [
    {
     "ename": "ValueError",
     "evalue": "y_target and y_model2 contain a different number of elements.",
     "output_type": "error",
     "traceback": [
      "\u001b[1;31m---------------------------------------------------------------------------\u001b[0m",
      "\u001b[1;31mValueError\u001b[0m                                Traceback (most recent call last)",
      "Cell \u001b[1;32mIn [3], line 8\u001b[0m\n\u001b[0;32m      5\u001b[0m y_mod1 \u001b[39m=\u001b[39m np\u001b[39m.\u001b[39mload(\u001b[39mf\u001b[39m\u001b[39m\"\u001b[39m\u001b[39msaved_predictions/\u001b[39m\u001b[39m{\u001b[39;00mmetrics_models[metrics_model_index][\u001b[39m'\u001b[39m\u001b[39mpatch_size\u001b[39m\u001b[39m'\u001b[39m]\u001b[39m}\u001b[39;00m\u001b[39mx\u001b[39m\u001b[39m{\u001b[39;00mmetrics_models[metrics_model_index][\u001b[39m'\u001b[39m\u001b[39mpatch_size\u001b[39m\u001b[39m'\u001b[39m]\u001b[39m}\u001b[39;00m\u001b[39m_pred_fire.npy\u001b[39m\u001b[39m\"\u001b[39m)\n\u001b[0;32m      6\u001b[0m y_mod2 \u001b[39m=\u001b[39m np\u001b[39m.\u001b[39mload(\u001b[39mf\u001b[39m\u001b[39m\"\u001b[39m\u001b[39msaved_predictions/256x256_pred_fire.npy\u001b[39m\u001b[39m\"\u001b[39m)\n\u001b[1;32m----> 8\u001b[0m tb \u001b[39m=\u001b[39m mcnemar_table(y_target\u001b[39m=\u001b[39;49my_true, y_model1\u001b[39m=\u001b[39;49my_mod1, y_model2\u001b[39m=\u001b[39;49my_mod2)\n\u001b[0;32m      9\u001b[0m tb\n",
      "File \u001b[1;32mc:\\Posao\\firebot-segmentation\\.venv\\lib\\site-packages\\mlxtend\\evaluate\\mcnemar.py:52\u001b[0m, in \u001b[0;36mmcnemar_table\u001b[1;34m(y_target, y_model1, y_model2)\u001b[0m\n\u001b[0;32m     47\u001b[0m     \u001b[39mraise\u001b[39;00m \u001b[39mValueError\u001b[39;00m(\n\u001b[0;32m     48\u001b[0m         \u001b[39m\"\u001b[39m\u001b[39my_target and y_model1 contain a different number\u001b[39m\u001b[39m\"\u001b[39m \u001b[39m\"\u001b[39m\u001b[39m of elements.\u001b[39m\u001b[39m\"\u001b[39m\n\u001b[0;32m     49\u001b[0m     )\n\u001b[0;32m     51\u001b[0m \u001b[39mif\u001b[39;00m y_target\u001b[39m.\u001b[39mshape[\u001b[39m0\u001b[39m] \u001b[39m!=\u001b[39m y_model2\u001b[39m.\u001b[39mshape[\u001b[39m0\u001b[39m]:\n\u001b[1;32m---> 52\u001b[0m     \u001b[39mraise\u001b[39;00m \u001b[39mValueError\u001b[39;00m(\n\u001b[0;32m     53\u001b[0m         \u001b[39m\"\u001b[39m\u001b[39my_target and y_model2 contain a different number\u001b[39m\u001b[39m\"\u001b[39m \u001b[39m\"\u001b[39m\u001b[39m of elements.\u001b[39m\u001b[39m\"\u001b[39m\n\u001b[0;32m     54\u001b[0m     )\n\u001b[0;32m     56\u001b[0m m1_vs_true \u001b[39m=\u001b[39m (y_target \u001b[39m==\u001b[39m y_model1)\u001b[39m.\u001b[39mastype(\u001b[39mint\u001b[39m)\n\u001b[0;32m     57\u001b[0m m2_vs_true \u001b[39m=\u001b[39m (y_target \u001b[39m==\u001b[39m y_model2)\u001b[39m.\u001b[39mastype(\u001b[39mint\u001b[39m)\n",
      "\u001b[1;31mValueError\u001b[0m: y_target and y_model2 contain a different number of elements."
     ]
    }
   ],
   "source": [
    "from scipy import stats\n",
    "from mlxtend.evaluate import mcnemar_table\n",
    "\n",
    "y_true = np.load(f\"saved_predictions/{metrics_models[metrics_model_index]['patch_size']}x{metrics_models[metrics_model_index]['patch_size']}_gt_fire.npy\")\n",
    "y_mod1 = np.load(f\"saved_predictions/{metrics_models[metrics_model_index]['patch_size']}x{metrics_models[metrics_model_index]['patch_size']}_pred_fire.npy\")\n",
    "y_mod2 = np.load(f\"saved_predictions/256x256_pred_fire.npy\")\n",
    "\n",
    "tb = mcnemar_table(y_target=y_true, y_model1=y_mod1, y_model2=y_mod2)\n",
    "tb"
   ]
  }
 ],
 "metadata": {
  "kernelspec": {
   "display_name": "Python 3.10.2 ('.venv': venv)",
   "language": "python",
   "name": "python3"
  },
  "language_info": {
   "codemirror_mode": {
    "name": "ipython",
    "version": 3
   },
   "file_extension": ".py",
   "mimetype": "text/x-python",
   "name": "python",
   "nbconvert_exporter": "python",
   "pygments_lexer": "ipython3",
   "version": "3.10.2"
  },
  "orig_nbformat": 4,
  "vscode": {
   "interpreter": {
    "hash": "e47f952cdbdcbd749679676f9e0262dc66992bbfa8785ddf36333265efa5fbed"
   }
  }
 },
 "nbformat": 4,
 "nbformat_minor": 2
}
